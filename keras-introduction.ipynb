{
 "cells": [
  {
   "cell_type": "markdown",
   "metadata": {},
   "source": [
    "# A Gentle Introduction to Keras (Udemy)"
   ]
  },
  {
   "cell_type": "markdown",
   "metadata": {},
   "source": [
    "This work does predictive modeling using deeplearning with tensorflow in the backend."
   ]
  },
  {
   "cell_type": "markdown",
   "metadata": {},
   "source": [
    "## Step 1. Import modules"
   ]
  },
  {
   "cell_type": "code",
   "execution_count": 86,
   "metadata": {},
   "outputs": [],
   "source": [
    "import keras\n",
    "from keras.models import Sequential\n",
    "from keras.layers import Dense\n",
    "import numpy\n",
    "from sklearn.model_selection import train_test_split"
   ]
  },
  {
   "cell_type": "markdown",
   "metadata": {},
   "source": [
    "## Step 2. Set a random seed"
   ]
  },
  {
   "cell_type": "markdown",
   "metadata": {},
   "source": [
    "Setting up the seed will enable us to get the same output with the model we are going to build. Random numbers are created but if we set same starting ( i.e. set seed ) then we can get the same set of random numbers."
   ]
  },
  {
   "cell_type": "code",
   "execution_count": 87,
   "metadata": {},
   "outputs": [],
   "source": [
    "seed = 10 # any value is OK\n",
    "numpy.random.seed(seed)"
   ]
  },
  {
   "cell_type": "markdown",
   "metadata": {},
   "source": [
    "## Step 3.  Import the data set"
   ]
  },
  {
   "cell_type": "code",
   "execution_count": 88,
   "metadata": {},
   "outputs": [],
   "source": [
    "from pandas import read_csv\n",
    "filename = \"BBCN.csv\"\n",
    "dataframe = read_csv(filename)"
   ]
  },
  {
   "cell_type": "markdown",
   "metadata": {},
   "source": [
    "Check the dataframe"
   ]
  },
  {
   "cell_type": "code",
   "execution_count": 89,
   "metadata": {},
   "outputs": [
    {
     "data": {
      "text/html": [
       "<div>\n",
       "<style scoped>\n",
       "    .dataframe tbody tr th:only-of-type {\n",
       "        vertical-align: middle;\n",
       "    }\n",
       "\n",
       "    .dataframe tbody tr th {\n",
       "        vertical-align: top;\n",
       "    }\n",
       "\n",
       "    .dataframe thead th {\n",
       "        text-align: right;\n",
       "    }\n",
       "</style>\n",
       "<table border=\"1\" class=\"dataframe\">\n",
       "  <thead>\n",
       "    <tr style=\"text-align: right;\">\n",
       "      <th></th>\n",
       "      <th>MaritalStatus</th>\n",
       "      <th>Gender</th>\n",
       "      <th>YearlyIncome</th>\n",
       "      <th>TotalChildren</th>\n",
       "      <th>NumberChildrenAtHome</th>\n",
       "      <th>EnglishEducation</th>\n",
       "      <th>HouseOwnerFlag</th>\n",
       "      <th>NumberCarsOwned</th>\n",
       "      <th>CommuteDistance</th>\n",
       "      <th>Region</th>\n",
       "      <th>Age</th>\n",
       "      <th>BikeBuyer</th>\n",
       "    </tr>\n",
       "  </thead>\n",
       "  <tbody>\n",
       "    <tr>\n",
       "      <th>0</th>\n",
       "      <td>5</td>\n",
       "      <td>1</td>\n",
       "      <td>9.0</td>\n",
       "      <td>2</td>\n",
       "      <td>0</td>\n",
       "      <td>5</td>\n",
       "      <td>1</td>\n",
       "      <td>0</td>\n",
       "      <td>2</td>\n",
       "      <td>2</td>\n",
       "      <td>5</td>\n",
       "      <td>1</td>\n",
       "    </tr>\n",
       "    <tr>\n",
       "      <th>1</th>\n",
       "      <td>5</td>\n",
       "      <td>1</td>\n",
       "      <td>6.0</td>\n",
       "      <td>3</td>\n",
       "      <td>3</td>\n",
       "      <td>5</td>\n",
       "      <td>0</td>\n",
       "      <td>1</td>\n",
       "      <td>1</td>\n",
       "      <td>2</td>\n",
       "      <td>4</td>\n",
       "      <td>1</td>\n",
       "    </tr>\n",
       "    <tr>\n",
       "      <th>2</th>\n",
       "      <td>5</td>\n",
       "      <td>1</td>\n",
       "      <td>6.0</td>\n",
       "      <td>3</td>\n",
       "      <td>3</td>\n",
       "      <td>5</td>\n",
       "      <td>1</td>\n",
       "      <td>1</td>\n",
       "      <td>5</td>\n",
       "      <td>2</td>\n",
       "      <td>4</td>\n",
       "      <td>1</td>\n",
       "    </tr>\n",
       "    <tr>\n",
       "      <th>3</th>\n",
       "      <td>5</td>\n",
       "      <td>2</td>\n",
       "      <td>7.0</td>\n",
       "      <td>0</td>\n",
       "      <td>0</td>\n",
       "      <td>5</td>\n",
       "      <td>0</td>\n",
       "      <td>1</td>\n",
       "      <td>10</td>\n",
       "      <td>2</td>\n",
       "      <td>5</td>\n",
       "      <td>1</td>\n",
       "    </tr>\n",
       "    <tr>\n",
       "      <th>4</th>\n",
       "      <td>5</td>\n",
       "      <td>2</td>\n",
       "      <td>8.0</td>\n",
       "      <td>5</td>\n",
       "      <td>5</td>\n",
       "      <td>5</td>\n",
       "      <td>1</td>\n",
       "      <td>4</td>\n",
       "      <td>2</td>\n",
       "      <td>2</td>\n",
       "      <td>5</td>\n",
       "      <td>1</td>\n",
       "    </tr>\n",
       "  </tbody>\n",
       "</table>\n",
       "</div>"
      ],
      "text/plain": [
       "   MaritalStatus  Gender  YearlyIncome  TotalChildren  NumberChildrenAtHome  \\\n",
       "0              5       1           9.0              2                     0   \n",
       "1              5       1           6.0              3                     3   \n",
       "2              5       1           6.0              3                     3   \n",
       "3              5       2           7.0              0                     0   \n",
       "4              5       2           8.0              5                     5   \n",
       "\n",
       "   EnglishEducation  HouseOwnerFlag  NumberCarsOwned  CommuteDistance  Region  \\\n",
       "0                 5               1                0                2       2   \n",
       "1                 5               0                1                1       2   \n",
       "2                 5               1                1                5       2   \n",
       "3                 5               0                1               10       2   \n",
       "4                 5               1                4                2       2   \n",
       "\n",
       "   Age  BikeBuyer  \n",
       "0    5          1  \n",
       "1    4          1  \n",
       "2    4          1  \n",
       "3    5          1  \n",
       "4    5          1  "
      ]
     },
     "execution_count": 89,
     "metadata": {},
     "output_type": "execute_result"
    }
   ],
   "source": [
    "dataframe.head() # first few rows of values are displayed"
   ]
  },
  {
   "cell_type": "markdown",
   "metadata": {},
   "source": [
    "What are the columns in the dataframe?"
   ]
  },
  {
   "cell_type": "code",
   "execution_count": 90,
   "metadata": {},
   "outputs": [
    {
     "data": {
      "text/plain": [
       "Index([u'MaritalStatus', u'Gender', u'YearlyIncome', u'TotalChildren',\n",
       "       u'NumberChildrenAtHome', u'EnglishEducation', u'HouseOwnerFlag',\n",
       "       u'NumberCarsOwned', u'CommuteDistance', u'Region', u'Age',\n",
       "       u'BikeBuyer'],\n",
       "      dtype='object')"
      ]
     },
     "execution_count": 90,
     "metadata": {},
     "output_type": "execute_result"
    }
   ],
   "source": [
    "dataframe.columns"
   ]
  },
  {
   "cell_type": "markdown",
   "metadata": {},
   "source": [
    "Check the first dataframe row"
   ]
  },
  {
   "cell_type": "code",
   "execution_count": 91,
   "metadata": {
    "scrolled": true
   },
   "outputs": [
    {
     "data": {
      "text/plain": [
       "MaritalStatus           5.0\n",
       "Gender                  1.0\n",
       "YearlyIncome            9.0\n",
       "TotalChildren           2.0\n",
       "NumberChildrenAtHome    0.0\n",
       "EnglishEducation        5.0\n",
       "HouseOwnerFlag          1.0\n",
       "NumberCarsOwned         0.0\n",
       "CommuteDistance         2.0\n",
       "Region                  2.0\n",
       "Age                     5.0\n",
       "BikeBuyer               1.0\n",
       "Name: 0, dtype: float64"
      ]
     },
     "execution_count": 91,
     "metadata": {},
     "output_type": "execute_result"
    }
   ],
   "source": [
    "dataframe.iloc[0]"
   ]
  },
  {
   "cell_type": "code",
   "execution_count": 92,
   "metadata": {},
   "outputs": [
    {
     "data": {
      "text/plain": [
       "Index([u'MaritalStatus', u'Gender', u'YearlyIncome', u'TotalChildren',\n",
       "       u'NumberChildrenAtHome', u'EnglishEducation', u'HouseOwnerFlag',\n",
       "       u'NumberCarsOwned', u'CommuteDistance', u'Region', u'Age',\n",
       "       u'BikeBuyer'],\n",
       "      dtype='object')"
      ]
     },
     "execution_count": 92,
     "metadata": {},
     "output_type": "execute_result"
    }
   ],
   "source": [
    "dataframe.columns\n"
   ]
  },
  {
   "cell_type": "markdown",
   "metadata": {},
   "source": [
    "## Step 4. Split the output variables"
   ]
  },
  {
   "cell_type": "code",
   "execution_count": 93,
   "metadata": {},
   "outputs": [
    {
     "data": {
      "text/plain": [
       "array([[5., 1., 9., ..., 2., 5., 1.],\n",
       "       [5., 1., 6., ..., 2., 4., 1.],\n",
       "       [5., 1., 6., ..., 2., 4., 1.],\n",
       "       ...,\n",
       "       [3., 2., 4., ..., 3., 5., 0.],\n",
       "       [3., 1., 4., ..., 1., 4., 0.],\n",
       "       [3., 1., 4., ..., 1., 4., 0.]])"
      ]
     },
     "execution_count": 93,
     "metadata": {},
     "output_type": "execute_result"
    }
   ],
   "source": [
    "array =  dataframe.values\n",
    "array"
   ]
  },
  {
   "cell_type": "code",
   "execution_count": 94,
   "metadata": {},
   "outputs": [],
   "source": [
    "#X = array [:,0:11] # includes ALL rows & first column 'MaritalStatus' to 11th column 'Age' -> input variable\n",
    "#y = array [:,11] # includes ALL rows & the last column only 'BikeBuyer' -> target variable\n",
    "\n",
    "X_dim = len(dataframe.columns) -1\n",
    "X = array [:,:-1] # all except last column\n",
    "y = array[:,(X_dim):(X_dim+1)]# only the last column\n",
    "\n",
    "\n",
    "# split X and y to training , testing and validation set\n",
    "\n",
    "X_train, X_test, y_train, y_test = train_test_split( X, y, test_size=0.5, random_state=1)\n",
    "\n",
    "X_train, X_val, y_train, y_val = train_test_split(X_train, y_train, test_size=0.01, random_state=1)"
   ]
  },
  {
   "cell_type": "code",
   "execution_count": 95,
   "metadata": {},
   "outputs": [
    {
     "data": {
      "text/plain": [
       "array([[ 1.,  2.,  4.,  0.,  0.,  1.,  1.,  2., 10.,  1.,  3.],\n",
       "       [ 2.,  2.,  4.,  0.,  0.,  2.,  0.,  2., 10.,  1.,  3.],\n",
       "       [ 4.,  1.,  7.,  4.,  0.,  4.,  1.,  2., 10.,  1., 84.]])"
      ]
     },
     "execution_count": 95,
     "metadata": {},
     "output_type": "execute_result"
    }
   ],
   "source": [
    "X_val"
   ]
  },
  {
   "cell_type": "code",
   "execution_count": 96,
   "metadata": {},
   "outputs": [
    {
     "data": {
      "text/plain": [
       "3"
      ]
     },
     "execution_count": 96,
     "metadata": {},
     "output_type": "execute_result"
    }
   ],
   "source": [
    "len(y_val)"
   ]
  },
  {
   "cell_type": "markdown",
   "metadata": {},
   "source": [
    "## Step 5. Define the model"
   ]
  },
  {
   "cell_type": "markdown",
   "metadata": {},
   "source": [
    "Models in keras is a sequence of layers.\n",
    "\n",
    "Dense class -> fully connected layers\n",
    "\n",
    "input_dim -> number of input columns\n",
    "\n",
    "kernel_initializer -> means the weights, default values are between 0-0.05 ('uniform' i.e. initialized the 'weights' to a small random number generated from a uniform distibution )\n",
    "Old example have this parameter as 'init' which is changed to 'kernel_initializer' here, else it will fire a warning\n",
    "\n",
    "activation-> activation function( relu -> maps input to same output value but negative values are mapped to zero, sigmoid -> does binary classification i.e. Output 0 (for values < 0.5) labelled as class A and 1 (>=0.5) labelled as class B )\n",
    "Activation functions summary: https://www.youtube.com/watch?v=9vB5nzrL4hY"
   ]
  },
  {
   "cell_type": "code",
   "execution_count": 97,
   "metadata": {},
   "outputs": [],
   "source": [
    "model = Sequential() # \n",
    "# Define 4 layers\n",
    "model.add(Dense(12,input_dim=X_dim,kernel_initializer='uniform',activation='relu')) # Input layer with 11 neurons\n",
    "#model.add(Dense(20,input_dim=X_dim,kernel_initializer='uniform',activation='relu')) # hidden layer with 8 neurons\n",
    "model.add(Dense(8,input_dim=X_dim,kernel_initializer='uniform',activation='relu')) # hidden layer with 8 neurons\n",
    "model.add(Dense(1,input_dim=X_dim,kernel_initializer='uniform',activation='sigmoid')) # output layer with 1 neuron"
   ]
  },
  {
   "cell_type": "markdown",
   "metadata": {},
   "source": [
    "## Step 5. Compile the Model\n"
   ]
  },
  {
   "cell_type": "markdown",
   "metadata": {},
   "source": [
    "loss -> cost function i.e. 'binary_crossentropy' is the cost function in logistic regression and 'categorical_crossentropy' is for multiclass predictions via softmax. The cost function measures **how close the estimated values are to their real values.**\n",
    "\n",
    "So, for our model we choose binary_crossentropy\n",
    "\n",
    "optimizer -> 'adam' i.e. an algorithm for first-order gradient-based optimization of stochastic objective functions, based on adaptive estimates of lower-order moments. https://keras.io/optimizers/\n",
    "\n",
    "metric -> function to check the model performance i.e. 'accuracy' which is simply the ratio of correctly predicted observations. Using accuracy suitable only for symmetric datasets with the output classes are equally distributed.\n"
   ]
  },
  {
   "cell_type": "code",
   "execution_count": 98,
   "metadata": {},
   "outputs": [],
   "source": [
    "model.compile(loss='binary_crossentropy', optimizer='adam', metrics=['accuracy'])"
   ]
  },
  {
   "cell_type": "markdown",
   "metadata": {},
   "source": [
    "# Step 6. Fit the Model"
   ]
  },
  {
   "cell_type": "markdown",
   "metadata": {},
   "source": [
    "epochs -> number of passes over the training data ( more passes will improve the predictions)\n",
    "\n",
    "batch_size -> how many training samples to use while training. For e.g. for 200 training examples, if batch_size is 100, then it will take 2 iterations to complete 1 epoch.\n",
    "\n",
    "Training a network will find the best set of weights for making predictions.\n"
   ]
  },
  {
   "cell_type": "code",
   "execution_count": 99,
   "metadata": {},
   "outputs": [
    {
     "name": "stdout",
     "output_type": "stream",
     "text": [
      "Epoch 1/200\n",
      "247/247 [==============================] - 0s 1ms/step - loss: 0.6931 - acc: 0.5385 \n",
      "Epoch 2/200\n",
      "247/247 [==============================] - 0s 143us/step - loss: 0.6922 - acc: 0.5506\n",
      "Epoch 3/200\n",
      "247/247 [==============================] - 0s 145us/step - loss: 0.6911 - acc: 0.5506\n",
      "Epoch 4/200\n",
      "247/247 [==============================] - 0s 164us/step - loss: 0.6899 - acc: 0.5506\n",
      "Epoch 5/200\n",
      "247/247 [==============================] - 0s 146us/step - loss: 0.6877 - acc: 0.5506\n",
      "Epoch 6/200\n",
      "247/247 [==============================] - 0s 150us/step - loss: 0.6859 - acc: 0.5506\n",
      "Epoch 7/200\n",
      "247/247 [==============================] - 0s 163us/step - loss: 0.6828 - acc: 0.5506\n",
      "Epoch 8/200\n",
      "247/247 [==============================] - 0s 145us/step - loss: 0.6806 - acc: 0.5506\n",
      "Epoch 9/200\n",
      "247/247 [==============================] - 0s 145us/step - loss: 0.6752 - acc: 0.5466\n",
      "Epoch 10/200\n",
      "247/247 [==============================] - 0s 166us/step - loss: 0.6710 - acc: 0.5830\n",
      "Epoch 11/200\n",
      "247/247 [==============================] - 0s 150us/step - loss: 0.6647 - acc: 0.5951\n",
      "Epoch 12/200\n",
      "247/247 [==============================] - 0s 156us/step - loss: 0.6604 - acc: 0.6194\n",
      "Epoch 13/200\n",
      "247/247 [==============================] - 0s 144us/step - loss: 0.6533 - acc: 0.6235\n",
      "Epoch 14/200\n",
      "247/247 [==============================] - 0s 146us/step - loss: 0.6529 - acc: 0.6478\n",
      "Epoch 15/200\n",
      "247/247 [==============================] - 0s 144us/step - loss: 0.6502 - acc: 0.6113\n",
      "Epoch 16/200\n",
      "247/247 [==============================] - 0s 156us/step - loss: 0.6450 - acc: 0.6397\n",
      "Epoch 17/200\n",
      "247/247 [==============================] - 0s 159us/step - loss: 0.6403 - acc: 0.6559\n",
      "Epoch 18/200\n",
      "247/247 [==============================] - 0s 146us/step - loss: 0.6373 - acc: 0.6397\n",
      "Epoch 19/200\n",
      "247/247 [==============================] - 0s 138us/step - loss: 0.6349 - acc: 0.6397\n",
      "Epoch 20/200\n",
      "247/247 [==============================] - 0s 146us/step - loss: 0.6325 - acc: 0.6518\n",
      "Epoch 21/200\n",
      "247/247 [==============================] - 0s 142us/step - loss: 0.6310 - acc: 0.6397\n",
      "Epoch 22/200\n",
      "247/247 [==============================] - 0s 144us/step - loss: 0.6308 - acc: 0.6437\n",
      "Epoch 23/200\n",
      "247/247 [==============================] - 0s 162us/step - loss: 0.6287 - acc: 0.6559\n",
      "Epoch 24/200\n",
      "247/247 [==============================] - 0s 151us/step - loss: 0.6251 - acc: 0.6518\n",
      "Epoch 25/200\n",
      "247/247 [==============================] - 0s 176us/step - loss: 0.6222 - acc: 0.6437\n",
      "Epoch 26/200\n",
      "247/247 [==============================] - 0s 150us/step - loss: 0.6246 - acc: 0.6721\n",
      "Epoch 27/200\n",
      "247/247 [==============================] - 0s 153us/step - loss: 0.6181 - acc: 0.6721\n",
      "Epoch 28/200\n",
      "247/247 [==============================] - ETA: 0s - loss: 0.5343 - acc: 0.800 - 0s 145us/step - loss: 0.6141 - acc: 0.6640\n",
      "Epoch 29/200\n",
      "247/247 [==============================] - 0s 159us/step - loss: 0.6147 - acc: 0.6721\n",
      "Epoch 30/200\n",
      "247/247 [==============================] - 0s 176us/step - loss: 0.6143 - acc: 0.6640\n",
      "Epoch 31/200\n",
      "247/247 [==============================] - 0s 150us/step - loss: 0.6132 - acc: 0.6559\n",
      "Epoch 32/200\n",
      "247/247 [==============================] - 0s 174us/step - loss: 0.6118 - acc: 0.6721\n",
      "Epoch 33/200\n",
      "247/247 [==============================] - 0s 153us/step - loss: 0.6072 - acc: 0.6680\n",
      "Epoch 34/200\n",
      "247/247 [==============================] - 0s 181us/step - loss: 0.6080 - acc: 0.6559\n",
      "Epoch 35/200\n",
      "247/247 [==============================] - 0s 157us/step - loss: 0.6017 - acc: 0.6802\n",
      "Epoch 36/200\n",
      "247/247 [==============================] - 0s 167us/step - loss: 0.6019 - acc: 0.6721\n",
      "Epoch 37/200\n",
      "247/247 [==============================] - 0s 152us/step - loss: 0.6012 - acc: 0.6802\n",
      "Epoch 38/200\n",
      "247/247 [==============================] - 0s 160us/step - loss: 0.5991 - acc: 0.6680\n",
      "Epoch 39/200\n",
      "247/247 [==============================] - 0s 152us/step - loss: 0.6034 - acc: 0.6559\n",
      "Epoch 40/200\n",
      "247/247 [==============================] - 0s 146us/step - loss: 0.5943 - acc: 0.6842\n",
      "Epoch 41/200\n",
      "247/247 [==============================] - 0s 153us/step - loss: 0.5943 - acc: 0.6721\n",
      "Epoch 42/200\n",
      "247/247 [==============================] - 0s 157us/step - loss: 0.5948 - acc: 0.6842\n",
      "Epoch 43/200\n",
      "247/247 [==============================] - 0s 150us/step - loss: 0.5981 - acc: 0.6721\n",
      "Epoch 44/200\n",
      "247/247 [==============================] - 0s 153us/step - loss: 0.5911 - acc: 0.6842\n",
      "Epoch 45/200\n",
      "247/247 [==============================] - 0s 153us/step - loss: 0.5880 - acc: 0.6802\n",
      "Epoch 46/200\n",
      "247/247 [==============================] - 0s 174us/step - loss: 0.5860 - acc: 0.6802\n",
      "Epoch 47/200\n",
      "247/247 [==============================] - 0s 159us/step - loss: 0.5857 - acc: 0.6802\n",
      "Epoch 48/200\n",
      "247/247 [==============================] - 0s 158us/step - loss: 0.5844 - acc: 0.6761\n",
      "Epoch 49/200\n",
      "247/247 [==============================] - 0s 148us/step - loss: 0.5850 - acc: 0.6802\n",
      "Epoch 50/200\n",
      "247/247 [==============================] - 0s 184us/step - loss: 0.5828 - acc: 0.6802\n",
      "Epoch 51/200\n",
      "247/247 [==============================] - 0s 152us/step - loss: 0.5855 - acc: 0.6680\n",
      "Epoch 52/200\n",
      "247/247 [==============================] - 0s 181us/step - loss: 0.5842 - acc: 0.6883\n",
      "Epoch 53/200\n",
      "247/247 [==============================] - 0s 152us/step - loss: 0.5788 - acc: 0.6721\n",
      "Epoch 54/200\n",
      "247/247 [==============================] - 0s 154us/step - loss: 0.5770 - acc: 0.6883\n",
      "Epoch 55/200\n",
      "247/247 [==============================] - 0s 148us/step - loss: 0.5837 - acc: 0.6721\n",
      "Epoch 56/200\n",
      "247/247 [==============================] - 0s 143us/step - loss: 0.5761 - acc: 0.6802\n",
      "Epoch 57/200\n",
      "247/247 [==============================] - 0s 151us/step - loss: 0.5832 - acc: 0.6802\n",
      "Epoch 58/200\n",
      "247/247 [==============================] - 0s 140us/step - loss: 0.5768 - acc: 0.7004\n",
      "Epoch 59/200\n",
      "247/247 [==============================] - 0s 141us/step - loss: 0.5833 - acc: 0.6923\n",
      "Epoch 60/200\n",
      "247/247 [==============================] - 0s 140us/step - loss: 0.5812 - acc: 0.6802\n",
      "Epoch 61/200\n",
      "247/247 [==============================] - 0s 138us/step - loss: 0.5711 - acc: 0.7045\n",
      "Epoch 62/200\n",
      "247/247 [==============================] - 0s 153us/step - loss: 0.5788 - acc: 0.7004\n",
      "Epoch 63/200\n",
      "247/247 [==============================] - 0s 142us/step - loss: 0.5752 - acc: 0.7004\n",
      "Epoch 64/200\n",
      "247/247 [==============================] - 0s 143us/step - loss: 0.5707 - acc: 0.6964\n",
      "Epoch 65/200\n",
      "247/247 [==============================] - 0s 143us/step - loss: 0.5799 - acc: 0.6923\n",
      "Epoch 66/200\n",
      "247/247 [==============================] - 0s 144us/step - loss: 0.5731 - acc: 0.6761\n",
      "Epoch 67/200\n",
      "247/247 [==============================] - 0s 141us/step - loss: 0.5691 - acc: 0.6883\n",
      "Epoch 68/200\n",
      "247/247 [==============================] - 0s 142us/step - loss: 0.5719 - acc: 0.6883\n",
      "Epoch 69/200\n",
      "247/247 [==============================] - 0s 139us/step - loss: 0.5668 - acc: 0.7126\n",
      "Epoch 70/200\n",
      "247/247 [==============================] - 0s 139us/step - loss: 0.5712 - acc: 0.7045\n",
      "Epoch 71/200\n",
      "247/247 [==============================] - 0s 141us/step - loss: 0.5877 - acc: 0.7004\n",
      "Epoch 72/200\n",
      "247/247 [==============================] - 0s 146us/step - loss: 0.5691 - acc: 0.6923\n",
      "Epoch 73/200\n",
      "247/247 [==============================] - 0s 139us/step - loss: 0.5703 - acc: 0.7045\n",
      "Epoch 74/200\n",
      "247/247 [==============================] - 0s 141us/step - loss: 0.5657 - acc: 0.7166\n",
      "Epoch 75/200\n",
      "247/247 [==============================] - 0s 144us/step - loss: 0.5701 - acc: 0.7004\n",
      "Epoch 76/200\n",
      "247/247 [==============================] - 0s 140us/step - loss: 0.5621 - acc: 0.7004\n",
      "Epoch 77/200\n",
      "247/247 [==============================] - 0s 145us/step - loss: 0.5658 - acc: 0.7004\n",
      "Epoch 78/200\n",
      "247/247 [==============================] - 0s 158us/step - loss: 0.5660 - acc: 0.6964\n",
      "Epoch 79/200\n",
      "247/247 [==============================] - 0s 156us/step - loss: 0.5637 - acc: 0.7085\n",
      "Epoch 80/200\n",
      "247/247 [==============================] - 0s 174us/step - loss: 0.5680 - acc: 0.7166\n",
      "Epoch 81/200\n",
      "247/247 [==============================] - 0s 178us/step - loss: 0.5616 - acc: 0.7166\n",
      "Epoch 82/200\n",
      "247/247 [==============================] - 0s 158us/step - loss: 0.5627 - acc: 0.7045\n",
      "Epoch 83/200\n"
     ]
    },
    {
     "name": "stdout",
     "output_type": "stream",
     "text": [
      "247/247 [==============================] - 0s 168us/step - loss: 0.5682 - acc: 0.7085\n",
      "Epoch 84/200\n",
      "247/247 [==============================] - 0s 157us/step - loss: 0.5629 - acc: 0.7126\n",
      "Epoch 85/200\n",
      "247/247 [==============================] - 0s 159us/step - loss: 0.5599 - acc: 0.7045\n",
      "Epoch 86/200\n",
      "247/247 [==============================] - 0s 156us/step - loss: 0.5593 - acc: 0.7085\n",
      "Epoch 87/200\n",
      "247/247 [==============================] - 0s 147us/step - loss: 0.5571 - acc: 0.7166\n",
      "Epoch 88/200\n",
      "247/247 [==============================] - 0s 136us/step - loss: 0.5624 - acc: 0.6923\n",
      "Epoch 89/200\n",
      "247/247 [==============================] - 0s 138us/step - loss: 0.5597 - acc: 0.7126\n",
      "Epoch 90/200\n",
      "247/247 [==============================] - 0s 137us/step - loss: 0.5636 - acc: 0.6883\n",
      "Epoch 91/200\n",
      "247/247 [==============================] - 0s 135us/step - loss: 0.5654 - acc: 0.7045\n",
      "Epoch 92/200\n",
      "247/247 [==============================] - 0s 140us/step - loss: 0.5596 - acc: 0.7045\n",
      "Epoch 93/200\n",
      "247/247 [==============================] - 0s 141us/step - loss: 0.5576 - acc: 0.7126\n",
      "Epoch 94/200\n",
      "247/247 [==============================] - 0s 169us/step - loss: 0.5606 - acc: 0.7085\n",
      "Epoch 95/200\n",
      "247/247 [==============================] - 0s 157us/step - loss: 0.5602 - acc: 0.7247\n",
      "Epoch 96/200\n",
      "247/247 [==============================] - 0s 157us/step - loss: 0.5592 - acc: 0.7126\n",
      "Epoch 97/200\n",
      "247/247 [==============================] - 0s 158us/step - loss: 0.5588 - acc: 0.7166\n",
      "Epoch 98/200\n",
      "247/247 [==============================] - 0s 150us/step - loss: 0.5569 - acc: 0.7206\n",
      "Epoch 99/200\n",
      "247/247 [==============================] - 0s 160us/step - loss: 0.5537 - acc: 0.7126\n",
      "Epoch 100/200\n",
      "247/247 [==============================] - 0s 149us/step - loss: 0.5588 - acc: 0.7206\n",
      "Epoch 101/200\n",
      "247/247 [==============================] - 0s 148us/step - loss: 0.5598 - acc: 0.7045\n",
      "Epoch 102/200\n",
      "247/247 [==============================] - 0s 158us/step - loss: 0.5576 - acc: 0.7004\n",
      "Epoch 103/200\n",
      "247/247 [==============================] - 0s 140us/step - loss: 0.5571 - acc: 0.7045\n",
      "Epoch 104/200\n",
      "247/247 [==============================] - 0s 141us/step - loss: 0.5562 - acc: 0.7166\n",
      "Epoch 105/200\n",
      "247/247 [==============================] - 0s 140us/step - loss: 0.5583 - acc: 0.7166\n",
      "Epoch 106/200\n",
      "247/247 [==============================] - 0s 138us/step - loss: 0.5610 - acc: 0.6761\n",
      "Epoch 107/200\n",
      "247/247 [==============================] - 0s 137us/step - loss: 0.5552 - acc: 0.7126\n",
      "Epoch 108/200\n",
      "247/247 [==============================] - 0s 147us/step - loss: 0.5535 - acc: 0.7126\n",
      "Epoch 109/200\n",
      "247/247 [==============================] - 0s 140us/step - loss: 0.5523 - acc: 0.7328\n",
      "Epoch 110/200\n",
      "247/247 [==============================] - 0s 139us/step - loss: 0.5555 - acc: 0.7126\n",
      "Epoch 111/200\n",
      "247/247 [==============================] - 0s 141us/step - loss: 0.5588 - acc: 0.7206\n",
      "Epoch 112/200\n",
      "247/247 [==============================] - 0s 141us/step - loss: 0.5544 - acc: 0.7247\n",
      "Epoch 113/200\n",
      "247/247 [==============================] - 0s 140us/step - loss: 0.5543 - acc: 0.7004\n",
      "Epoch 114/200\n",
      "247/247 [==============================] - 0s 138us/step - loss: 0.5516 - acc: 0.7206\n",
      "Epoch 115/200\n",
      "247/247 [==============================] - 0s 141us/step - loss: 0.5524 - acc: 0.7206\n",
      "Epoch 116/200\n",
      "247/247 [==============================] - 0s 138us/step - loss: 0.5553 - acc: 0.7166\n",
      "Epoch 117/200\n",
      "247/247 [==============================] - 0s 140us/step - loss: 0.5576 - acc: 0.7126\n",
      "Epoch 118/200\n",
      "247/247 [==============================] - 0s 140us/step - loss: 0.5492 - acc: 0.7247\n",
      "Epoch 119/200\n",
      "247/247 [==============================] - 0s 136us/step - loss: 0.5517 - acc: 0.7126\n",
      "Epoch 120/200\n",
      "247/247 [==============================] - 0s 144us/step - loss: 0.5539 - acc: 0.7166\n",
      "Epoch 121/200\n",
      "247/247 [==============================] - 0s 142us/step - loss: 0.5496 - acc: 0.7085\n",
      "Epoch 122/200\n",
      "247/247 [==============================] - 0s 138us/step - loss: 0.5524 - acc: 0.7126\n",
      "Epoch 123/200\n",
      "247/247 [==============================] - 0s 141us/step - loss: 0.5556 - acc: 0.7166\n",
      "Epoch 124/200\n",
      "247/247 [==============================] - 0s 142us/step - loss: 0.5558 - acc: 0.7328\n",
      "Epoch 125/200\n",
      "247/247 [==============================] - 0s 137us/step - loss: 0.5543 - acc: 0.7004\n",
      "Epoch 126/200\n",
      "247/247 [==============================] - 0s 141us/step - loss: 0.5520 - acc: 0.7206\n",
      "Epoch 127/200\n",
      "247/247 [==============================] - 0s 141us/step - loss: 0.5492 - acc: 0.7085\n",
      "Epoch 128/200\n",
      "247/247 [==============================] - 0s 140us/step - loss: 0.5515 - acc: 0.7126\n",
      "Epoch 129/200\n",
      "247/247 [==============================] - 0s 138us/step - loss: 0.5529 - acc: 0.7247\n",
      "Epoch 130/200\n",
      "247/247 [==============================] - 0s 138us/step - loss: 0.5482 - acc: 0.7166\n",
      "Epoch 131/200\n",
      "247/247 [==============================] - 0s 142us/step - loss: 0.5505 - acc: 0.7409\n",
      "Epoch 132/200\n",
      "247/247 [==============================] - 0s 144us/step - loss: 0.5474 - acc: 0.7287\n",
      "Epoch 133/200\n",
      "247/247 [==============================] - 0s 139us/step - loss: 0.5451 - acc: 0.7085\n",
      "Epoch 134/200\n",
      "247/247 [==============================] - 0s 144us/step - loss: 0.5500 - acc: 0.7166\n",
      "Epoch 135/200\n",
      "247/247 [==============================] - 0s 140us/step - loss: 0.5538 - acc: 0.7328\n",
      "Epoch 136/200\n",
      "247/247 [==============================] - 0s 139us/step - loss: 0.5463 - acc: 0.7126\n",
      "Epoch 137/200\n",
      "247/247 [==============================] - 0s 153us/step - loss: 0.5478 - acc: 0.7085\n",
      "Epoch 138/200\n",
      "247/247 [==============================] - 0s 137us/step - loss: 0.5576 - acc: 0.7126\n",
      "Epoch 139/200\n",
      "247/247 [==============================] - 0s 155us/step - loss: 0.5496 - acc: 0.7206\n",
      "Epoch 140/200\n",
      "247/247 [==============================] - 0s 139us/step - loss: 0.5455 - acc: 0.7126\n",
      "Epoch 141/200\n",
      "247/247 [==============================] - 0s 138us/step - loss: 0.5430 - acc: 0.7247\n",
      "Epoch 142/200\n",
      "247/247 [==============================] - 0s 137us/step - loss: 0.5459 - acc: 0.7328\n",
      "Epoch 143/200\n",
      "247/247 [==============================] - 0s 138us/step - loss: 0.5450 - acc: 0.7328\n",
      "Epoch 144/200\n",
      "247/247 [==============================] - 0s 139us/step - loss: 0.5450 - acc: 0.7166\n",
      "Epoch 145/200\n",
      "247/247 [==============================] - 0s 137us/step - loss: 0.5434 - acc: 0.7166\n",
      "Epoch 146/200\n",
      "247/247 [==============================] - 0s 140us/step - loss: 0.5434 - acc: 0.7126\n",
      "Epoch 147/200\n",
      "247/247 [==============================] - 0s 141us/step - loss: 0.5435 - acc: 0.7287\n",
      "Epoch 148/200\n",
      "247/247 [==============================] - 0s 139us/step - loss: 0.5411 - acc: 0.7206\n",
      "Epoch 149/200\n",
      "247/247 [==============================] - 0s 136us/step - loss: 0.5438 - acc: 0.7328\n",
      "Epoch 150/200\n",
      "247/247 [==============================] - 0s 138us/step - loss: 0.5422 - acc: 0.7206\n",
      "Epoch 151/200\n",
      "247/247 [==============================] - 0s 158us/step - loss: 0.5407 - acc: 0.7166\n",
      "Epoch 152/200\n",
      "247/247 [==============================] - 0s 144us/step - loss: 0.5394 - acc: 0.7166\n",
      "Epoch 153/200\n",
      "247/247 [==============================] - 0s 139us/step - loss: 0.5390 - acc: 0.7368\n",
      "Epoch 154/200\n",
      "247/247 [==============================] - 0s 138us/step - loss: 0.5422 - acc: 0.7166\n",
      "Epoch 155/200\n",
      "247/247 [==============================] - 0s 137us/step - loss: 0.5402 - acc: 0.7287\n",
      "Epoch 156/200\n",
      "247/247 [==============================] - 0s 140us/step - loss: 0.5367 - acc: 0.7126\n",
      "Epoch 157/200\n",
      "247/247 [==============================] - 0s 139us/step - loss: 0.5399 - acc: 0.7206\n",
      "Epoch 158/200\n",
      "247/247 [==============================] - 0s 138us/step - loss: 0.5387 - acc: 0.7247\n",
      "Epoch 159/200\n",
      "247/247 [==============================] - 0s 139us/step - loss: 0.5372 - acc: 0.7247\n",
      "Epoch 160/200\n",
      "247/247 [==============================] - 0s 141us/step - loss: 0.5476 - acc: 0.7247\n",
      "Epoch 161/200\n",
      "247/247 [==============================] - 0s 139us/step - loss: 0.5424 - acc: 0.7206\n",
      "Epoch 162/200\n",
      "247/247 [==============================] - 0s 139us/step - loss: 0.5490 - acc: 0.7004\n",
      "Epoch 163/200\n",
      "247/247 [==============================] - 0s 141us/step - loss: 0.5458 - acc: 0.7126\n",
      "Epoch 164/200\n",
      "247/247 [==============================] - 0s 141us/step - loss: 0.5396 - acc: 0.7126\n",
      "Epoch 165/200\n"
     ]
    },
    {
     "name": "stdout",
     "output_type": "stream",
     "text": [
      "247/247 [==============================] - 0s 143us/step - loss: 0.5612 - acc: 0.6964\n",
      "Epoch 166/200\n",
      "247/247 [==============================] - 0s 140us/step - loss: 0.5514 - acc: 0.7004\n",
      "Epoch 167/200\n",
      "247/247 [==============================] - 0s 143us/step - loss: 0.5345 - acc: 0.7206\n",
      "Epoch 168/200\n",
      "247/247 [==============================] - 0s 138us/step - loss: 0.5411 - acc: 0.7206\n",
      "Epoch 169/200\n",
      "247/247 [==============================] - 0s 137us/step - loss: 0.5365 - acc: 0.7045\n",
      "Epoch 170/200\n",
      "247/247 [==============================] - 0s 137us/step - loss: 0.5411 - acc: 0.7206\n",
      "Epoch 171/200\n",
      "247/247 [==============================] - 0s 139us/step - loss: 0.5484 - acc: 0.7206\n",
      "Epoch 172/200\n",
      "247/247 [==============================] - 0s 140us/step - loss: 0.5372 - acc: 0.7126\n",
      "Epoch 173/200\n",
      "247/247 [==============================] - 0s 139us/step - loss: 0.5374 - acc: 0.7126\n",
      "Epoch 174/200\n",
      "247/247 [==============================] - 0s 140us/step - loss: 0.5391 - acc: 0.7126\n",
      "Epoch 175/200\n",
      "247/247 [==============================] - 0s 139us/step - loss: 0.5340 - acc: 0.7328\n",
      "Epoch 176/200\n",
      "247/247 [==============================] - 0s 139us/step - loss: 0.5423 - acc: 0.7166\n",
      "Epoch 177/200\n",
      "247/247 [==============================] - 0s 138us/step - loss: 0.5338 - acc: 0.7085\n",
      "Epoch 178/200\n",
      "247/247 [==============================] - 0s 138us/step - loss: 0.5361 - acc: 0.7206\n",
      "Epoch 179/200\n",
      "247/247 [==============================] - 0s 138us/step - loss: 0.5326 - acc: 0.7206\n",
      "Epoch 180/200\n",
      "247/247 [==============================] - 0s 143us/step - loss: 0.5320 - acc: 0.7206\n",
      "Epoch 181/200\n",
      "247/247 [==============================] - 0s 138us/step - loss: 0.5325 - acc: 0.7206\n",
      "Epoch 182/200\n",
      "247/247 [==============================] - 0s 140us/step - loss: 0.5330 - acc: 0.7206\n",
      "Epoch 183/200\n",
      "247/247 [==============================] - 0s 137us/step - loss: 0.5357 - acc: 0.7126\n",
      "Epoch 184/200\n",
      "247/247 [==============================] - 0s 140us/step - loss: 0.5326 - acc: 0.7287\n",
      "Epoch 185/200\n",
      "247/247 [==============================] - 0s 137us/step - loss: 0.5303 - acc: 0.7287\n",
      "Epoch 186/200\n",
      "247/247 [==============================] - 0s 136us/step - loss: 0.5304 - acc: 0.7328\n",
      "Epoch 187/200\n",
      "247/247 [==============================] - 0s 142us/step - loss: 0.5299 - acc: 0.7126\n",
      "Epoch 188/200\n",
      "247/247 [==============================] - 0s 142us/step - loss: 0.5318 - acc: 0.7368\n",
      "Epoch 189/200\n",
      "247/247 [==============================] - 0s 138us/step - loss: 0.5315 - acc: 0.7166\n",
      "Epoch 190/200\n",
      "247/247 [==============================] - 0s 141us/step - loss: 0.5332 - acc: 0.7247\n",
      "Epoch 191/200\n",
      "247/247 [==============================] - 0s 137us/step - loss: 0.5304 - acc: 0.7247\n",
      "Epoch 192/200\n",
      "247/247 [==============================] - 0s 138us/step - loss: 0.5247 - acc: 0.7247\n",
      "Epoch 193/200\n",
      "247/247 [==============================] - 0s 138us/step - loss: 0.5322 - acc: 0.7287\n",
      "Epoch 194/200\n",
      "247/247 [==============================] - 0s 148us/step - loss: 0.5271 - acc: 0.7368\n",
      "Epoch 195/200\n",
      "247/247 [==============================] - 0s 141us/step - loss: 0.5353 - acc: 0.7206\n",
      "Epoch 196/200\n",
      "247/247 [==============================] - 0s 140us/step - loss: 0.5283 - acc: 0.7247\n",
      "Epoch 197/200\n",
      "247/247 [==============================] - 0s 142us/step - loss: 0.5242 - acc: 0.7287\n",
      "Epoch 198/200\n",
      "247/247 [==============================] - 0s 145us/step - loss: 0.5224 - acc: 0.7409\n",
      "Epoch 199/200\n",
      "247/247 [==============================] - 0s 145us/step - loss: 0.5221 - acc: 0.7409\n",
      "Epoch 200/200\n",
      "247/247 [==============================] - 0s 143us/step - loss: 0.5192 - acc: 0.7328\n"
     ]
    },
    {
     "data": {
      "text/plain": [
       "<keras.callbacks.History at 0x7f1ef41de1d0>"
      ]
     },
     "execution_count": 99,
     "metadata": {},
     "output_type": "execute_result"
    }
   ],
   "source": [
    "model.fit(X_train, y_train, epochs = 200, batch_size = 5)"
   ]
  },
  {
   "cell_type": "markdown",
   "metadata": {},
   "source": [
    "## Step 7. Score the Model"
   ]
  },
  {
   "cell_type": "code",
   "execution_count": 100,
   "metadata": {},
   "outputs": [
    {
     "name": "stdout",
     "output_type": "stream",
     "text": [
      "250/250 [==============================] - 0s 405us/step\n",
      "acc: 60.40%\n"
     ]
    }
   ],
   "source": [
    "scores = model.evaluate(X_test,y_test)\n",
    "print (\"%s: %.2f%%\" % (model.metrics_names[1], scores[1]*100))"
   ]
  },
  {
   "cell_type": "markdown",
   "metadata": {},
   "source": [
    "Notice the difference in the accuracy percentage with different input files in **step 3** .\n",
    "When the input is not normalized the accuracy is about 50% **(filename = \"BBC.csv\")**.\n",
    "When the input is normalized, the accuracy is improved above 60% **(filename = \"BBCN.csv\")**.\n",
    "Using larger epoch value improved accuracy."
   ]
  },
  {
   "cell_type": "markdown",
   "metadata": {},
   "source": [
    "### Tuning the Model"
   ]
  },
  {
   "cell_type": "markdown",
   "metadata": {},
   "source": [
    "1. normalize the data and repeat the process. E.g. Input file = \"BBCN.csv\" is the normalized form of \"BBC.csv\" ( column YearlyIncome is normalized ).\n",
    "\n",
    "2. Add another hidden layer and also change the number of neurons in the layers.\n",
    "\n",
    "3. Increase the number of epochs.\n",
    "\n",
    "4. Optimal size of trainig & testing sets."
   ]
  },
  {
   "cell_type": "markdown",
   "metadata": {},
   "source": [
    "## Step 8. Make Predictions"
   ]
  },
  {
   "cell_type": "markdown",
   "metadata": {},
   "source": [
    "Using new input dataset, we can use our model to predict the output.\n",
    "\n",
    "Need to call the **model.predict()** fucntion. \n",
    "\n",
    "As sigmoid activation function is used in the output layer, the predictions will be in the range between 0 and 1. Then, we will convert them into a  binary prediction for our classification needs.\n",
    "\n",
    "Refer Step 7 in https://machinelearningmastery.com/tutorial-first-neural-network-python-keras/"
   ]
  },
  {
   "cell_type": "code",
   "execution_count": 101,
   "metadata": {},
   "outputs": [
    {
     "name": "stdout",
     "output_type": "stream",
     "text": [
      "[1.0, 1.0, 1.0]\n"
     ]
    }
   ],
   "source": [
    "X_predict = X_val #X_test[0:5,] # Need to give some new data for prediction\n",
    "predictions = model.predict(X_predict )\n",
    "rounded = [round(x[0]) for x in predictions] # round predictions\n",
    "print(rounded)\n"
   ]
  },
  {
   "cell_type": "code",
   "execution_count": 102,
   "metadata": {},
   "outputs": [
    {
     "data": {
      "text/plain": [
       "array([[0.],\n",
       "       [1.],\n",
       "       [0.]])"
      ]
     },
     "execution_count": 102,
     "metadata": {},
     "output_type": "execute_result"
    }
   ],
   "source": [
    "y_val"
   ]
  },
  {
   "cell_type": "markdown",
   "metadata": {},
   "source": [
    "## References"
   ]
  },
  {
   "cell_type": "markdown",
   "metadata": {},
   "source": [
    "https://www.udemy.com/a-gentle-introduction-to-deep-learning-using-keras/\n",
    "\n",
    "https://machinelearningmastery.com/tutorial-first-neural-network-python-keras/\n"
   ]
  }
 ],
 "metadata": {
  "kernelspec": {
   "display_name": "Python 2",
   "language": "python",
   "name": "python2"
  },
  "language_info": {
   "codemirror_mode": {
    "name": "ipython",
    "version": 2
   },
   "file_extension": ".py",
   "mimetype": "text/x-python",
   "name": "python",
   "nbconvert_exporter": "python",
   "pygments_lexer": "ipython2",
   "version": "2.7.15rc1"
  }
 },
 "nbformat": 4,
 "nbformat_minor": 2
}
